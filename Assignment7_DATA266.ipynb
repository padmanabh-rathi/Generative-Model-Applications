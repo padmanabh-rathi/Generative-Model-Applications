{
  "nbformat": 4,
  "nbformat_minor": 0,
  "metadata": {
    "colab": {
      "provenance": [],
      "machine_shape": "hm",
      "gpuType": "L4"
    },
    "kernelspec": {
      "name": "python3",
      "display_name": "Python 3"
    },
    "language_info": {
      "name": "python"
    },
    "accelerator": "GPU"
  },
  "cells": [
    {
      "cell_type": "markdown",
      "source": [
        "2. Implement classifier-free guidance in your existing DDPM (Denoising Diffusion Probabilistic Model) code. Modify the diffusion sampling process to combine conditional and unconditional predictions for improved sample quality. Document your findings of the differences made in the code. (10 Points)"
      ],
      "metadata": {
        "id": "GUaFeXndP4rF"
      }
    },
    {
      "cell_type": "code",
      "source": [
        "!pip install torch torchvision einops tqdm matplotlib --quiet"
      ],
      "metadata": {
        "id": "Qfsly1G1KfoZ"
      },
      "execution_count": null,
      "outputs": []
    },
    {
      "cell_type": "code",
      "execution_count": null,
      "metadata": {
        "colab": {
          "base_uri": "https://localhost:8080/",
          "height": 1000
        },
        "id": "zdcPWdIKJbSg",
        "outputId": "bc06ea86-0737-48e7-e683-7efd7a2aa590"
      },
      "outputs": [
        {
          "output_type": "stream",
          "name": "stdout",
          "text": [
            "Device: cuda\n"
          ]
        },
        {
          "output_type": "stream",
          "name": "stderr",
          "text": [
            "100%|██████████| 9.91M/9.91M [00:00<00:00, 20.3MB/s]\n",
            "100%|██████████| 28.9k/28.9k [00:00<00:00, 474kB/s]\n",
            "100%|██████████| 1.65M/1.65M [00:00<00:00, 4.53MB/s]\n",
            "100%|██████████| 4.54k/4.54k [00:00<00:00, 10.7MB/s]\n",
            "Epoch 1/30: 100%|██████████| 468/468 [00:14<00:00, 32.53it/s]\n"
          ]
        },
        {
          "output_type": "stream",
          "name": "stdout",
          "text": [
            "Epoch 1 | Loss: 0.2370\n"
          ]
        },
        {
          "output_type": "stream",
          "name": "stderr",
          "text": [
            "Epoch 2/30: 100%|██████████| 468/468 [00:12<00:00, 37.95it/s]\n"
          ]
        },
        {
          "output_type": "stream",
          "name": "stdout",
          "text": [
            "Epoch 2 | Loss: 0.0568\n"
          ]
        },
        {
          "output_type": "stream",
          "name": "stderr",
          "text": [
            "Epoch 3/30: 100%|██████████| 468/468 [00:12<00:00, 37.66it/s]\n"
          ]
        },
        {
          "output_type": "stream",
          "name": "stdout",
          "text": [
            "Epoch 3 | Loss: 0.0432\n"
          ]
        },
        {
          "output_type": "stream",
          "name": "stderr",
          "text": [
            "Epoch 4/30: 100%|██████████| 468/468 [00:12<00:00, 37.29it/s]\n"
          ]
        },
        {
          "output_type": "stream",
          "name": "stdout",
          "text": [
            "Epoch 4 | Loss: 0.0388\n"
          ]
        },
        {
          "output_type": "stream",
          "name": "stderr",
          "text": [
            "Epoch 5/30: 100%|██████████| 468/468 [00:12<00:00, 37.03it/s]\n"
          ]
        },
        {
          "output_type": "stream",
          "name": "stdout",
          "text": [
            "Epoch 5 | Loss: 0.0353\n"
          ]
        },
        {
          "output_type": "display_data",
          "data": {
            "text/plain": [
              "<Figure size 800x200 with 4 Axes>"
            ],
            "image/png": "[encoded data removed]"
          },
          "metadata": {}
        },
        {
          "output_type": "stream",
          "name": "stderr",
          "text": [
            "Epoch 6/30: 100%|██████████| 468/468 [00:12<00:00, 37.22it/s]\n"
          ]
        },
        {
          "output_type": "stream",
          "name": "stdout",
          "text": [
            "Epoch 6 | Loss: 0.0321\n"
          ]
        },
        {
          "output_type": "stream",
          "name": "stderr",
          "text": [
            "Epoch 7/30: 100%|██████████| 468/468 [00:12<00:00, 37.19it/s]\n"
          ]
        },
        {
          "output_type": "stream",
          "name": "stdout",
          "text": [
            "Epoch 7 | Loss: 0.0301\n"
          ]
        },
        {
          "output_type": "stream",
          "name": "stderr",
          "text": [
            "Epoch 8/30: 100%|██████████| 468/468 [00:12<00:00, 37.23it/s]\n"
          ]
        },
        {
          "output_type": "stream",
          "name": "stdout",
          "text": [
            "Epoch 8 | Loss: 0.0278\n"
          ]
        },
        {
          "output_type": "stream",
          "name": "stderr",
          "text": [
            "Epoch 9/30: 100%|██████████| 468/468 [00:12<00:00, 37.28it/s]\n"
          ]
        },
        {
          "output_type": "stream",
          "name": "stdout",
          "text": [
            "Epoch 9 | Loss: 0.0263\n"
          ]
        },
        {
          "output_type": "stream",
          "name": "stderr",
          "text": [
            "Epoch 10/30: 100%|██████████| 468/468 [00:12<00:00, 37.36it/s]\n"
          ]
        },
        {
          "output_type": "stream",
          "name": "stdout",
          "text": [
            "Epoch 10 | Loss: 0.0256\n"
          ]
        },
        {
          "output_type": "display_data",
          "data": {
            "text/plain": [
              "<Figure size 800x200 with 4 Axes>"
            ],
            "image/png": "[encoded data removed]"
          },
          "metadata": {}
        },
        {
          "output_type": "stream",
          "name": "stderr",
          "text": [
            "Epoch 11/30: 100%|██████████| 468/468 [00:12<00:00, 37.33it/s]\n"
          ]
        },
        {
          "output_type": "stream",
          "name": "stdout",
          "text": [
            "Epoch 11 | Loss: 0.0242\n"
          ]
        },
        {
          "output_type": "stream",
          "name": "stderr",
          "text": [
            "Epoch 12/30: 100%|██████████| 468/468 [00:12<00:00, 36.92it/s]\n"
          ]
        },
        {
          "output_type": "stream",
          "name": "stdout",
          "text": [
            "Epoch 12 | Loss: 0.0234\n"
          ]
        },
        {
          "output_type": "stream",
          "name": "stderr",
          "text": [
            "Epoch 13/30: 100%|██████████| 468/468 [00:12<00:00, 37.07it/s]\n"
          ]
        },
        {
          "output_type": "stream",
          "name": "stdout",
          "text": [
            "Epoch 13 | Loss: 0.0230\n"
          ]
        },
        {
          "output_type": "stream",
          "name": "stderr",
          "text": [
            "Epoch 14/30: 100%|██████████| 468/468 [00:12<00:00, 37.34it/s]\n"
          ]
        },
        {
          "output_type": "stream",
          "name": "stdout",
          "text": [
            "Epoch 14 | Loss: 0.0223\n"
          ]
        },
        {
          "output_type": "stream",
          "name": "stderr",
          "text": [
            "Epoch 15/30: 100%|██████████| 468/468 [00:12<00:00, 37.48it/s]\n"
          ]
        },
        {
          "output_type": "stream",
          "name": "stdout",
          "text": [
            "Epoch 15 | Loss: 0.0221\n"
          ]
        },
        {
          "output_type": "display_data",
          "data": {
            "text/plain": [
              "<Figure size 800x200 with 4 Axes>"
            ],
            "image/png": "[encoded data removed]"
          },
          "metadata": {}
        },
        {
          "output_type": "stream",
          "name": "stderr",
          "text": [
            "Epoch 16/30: 100%|██████████| 468/468 [00:12<00:00, 37.55it/s]\n"
          ]
        },
        {
          "output_type": "stream",
          "name": "stdout",
          "text": [
            "Epoch 16 | Loss: 0.0219\n"
          ]
        },
        {
          "output_type": "stream",
          "name": "stderr",
          "text": [
            "Epoch 17/30: 100%|██████████| 468/468 [00:12<00:00, 37.16it/s]\n"
          ]
        },
        {
          "output_type": "stream",
          "name": "stdout",
          "text": [
            "Epoch 17 | Loss: 0.0215\n"
          ]
        },
        {
          "output_type": "stream",
          "name": "stderr",
          "text": [
            "Epoch 18/30: 100%|██████████| 468/468 [00:12<00:00, 37.14it/s]\n"
          ]
        },
        {
          "output_type": "stream",
          "name": "stdout",
          "text": [
            "Epoch 18 | Loss: 0.0210\n"
          ]
        },
        {
          "output_type": "stream",
          "name": "stderr",
          "text": [
            "Epoch 19/30: 100%|██████████| 468/468 [00:12<00:00, 37.34it/s]\n"
          ]
        },
        {
          "output_type": "stream",
          "name": "stdout",
          "text": [
            "Epoch 19 | Loss: 0.0208\n"
          ]
        },
        {
          "output_type": "stream",
          "name": "stderr",
          "text": [
            "Epoch 20/30: 100%|██████████| 468/468 [00:12<00:00, 37.35it/s]\n"
          ]
        },
        {
          "output_type": "stream",
          "name": "stdout",
          "text": [
            "Epoch 20 | Loss: 0.0203\n"
          ]
        },
        {
          "output_type": "display_data",
          "data": {
            "text/plain": [
              "<Figure size 800x200 with 4 Axes>"
            ],
            "image/png": "[encoded data removed]"
          },
          "metadata": {}
        },
        {
          "output_type": "stream",
          "name": "stderr",
          "text": [
            "Epoch 21/30: 100%|██████████| 468/468 [00:12<00:00, 36.22it/s]\n"
          ]
        },
        {
          "output_type": "stream",
          "name": "stdout",
          "text": [
            "Epoch 21 | Loss: 0.0201\n"
          ]
        },
        {
          "output_type": "stream",
          "name": "stderr",
          "text": [
            "Epoch 22/30: 100%|██████████| 468/468 [00:12<00:00, 37.13it/s]\n"
          ]
        },
        {
          "output_type": "stream",
          "name": "stdout",
          "text": [
            "Epoch 22 | Loss: 0.0199\n"
          ]
        },
        {
          "output_type": "stream",
          "name": "stderr",
          "text": [
            "Epoch 23/30: 100%|██████████| 468/468 [00:12<00:00, 37.15it/s]\n"
          ]
        },
        {
          "output_type": "stream",
          "name": "stdout",
          "text": [
            "Epoch 23 | Loss: 0.0199\n"
          ]
        },
        {
          "output_type": "stream",
          "name": "stderr",
          "text": [
            "Epoch 24/30: 100%|██████████| 468/468 [00:12<00:00, 37.20it/s]\n"
          ]
        },
        {
          "output_type": "stream",
          "name": "stdout",
          "text": [
            "Epoch 24 | Loss: 0.0199\n"
          ]
        },
        {
          "output_type": "stream",
          "name": "stderr",
          "text": [
            "Epoch 25/30: 100%|██████████| 468/468 [00:12<00:00, 37.29it/s]\n"
          ]
        },
        {
          "output_type": "stream",
          "name": "stdout",
          "text": [
            "Epoch 25 | Loss: 0.0199\n"
          ]
        },
        {
          "output_type": "display_data",
          "data": {
            "text/plain": [
              "<Figure size 800x200 with 4 Axes>"
            ],
            "image/png": "[encoded data removed]"
          },
          "metadata": {}
        },
        {
          "output_type": "stream",
          "name": "stderr",
          "text": [
            "Epoch 26/30: 100%|██████████| 468/468 [00:12<00:00, 37.41it/s]\n"
          ]
        },
        {
          "output_type": "stream",
          "name": "stdout",
          "text": [
            "Epoch 26 | Loss: 0.0197\n"
          ]
        },
        {
          "output_type": "stream",
          "name": "stderr",
          "text": [
            "Epoch 27/30: 100%|██████████| 468/468 [00:12<00:00, 37.20it/s]\n"
          ]
        },
        {
          "output_type": "stream",
          "name": "stdout",
          "text": [
            "Epoch 27 | Loss: 0.0193\n"
          ]
        },
        {
          "output_type": "stream",
          "name": "stderr",
          "text": [
            "Epoch 28/30: 100%|██████████| 468/468 [00:12<00:00, 36.99it/s]\n"
          ]
        },
        {
          "output_type": "stream",
          "name": "stdout",
          "text": [
            "Epoch 28 | Loss: 0.0192\n"
          ]
        },
        {
          "output_type": "stream",
          "name": "stderr",
          "text": [
            "Epoch 29/30: 100%|██████████| 468/468 [00:12<00:00, 37.23it/s]\n"
          ]
        },
        {
          "output_type": "stream",
          "name": "stdout",
          "text": [
            "Epoch 29 | Loss: 0.0189\n"
          ]
        },
        {
          "output_type": "stream",
          "name": "stderr",
          "text": [
            "Epoch 30/30: 100%|██████████| 468/468 [00:12<00:00, 37.41it/s]\n"
          ]
        },
        {
          "output_type": "stream",
          "name": "stdout",
          "text": [
            "Epoch 30 | Loss: 0.0191\n"
          ]
        },
        {
          "output_type": "display_data",
          "data": {
            "text/plain": [
              "<Figure size 800x200 with 4 Axes>"
            ],
            "image/png": "[encoded data removed]"
          },
          "metadata": {}
        },
        {
          "output_type": "stream",
          "name": "stdout",
          "text": [
            "Training complete. Saved: ddpm_mnist_cfg.pt\n"
          ]
        },
        {
          "output_type": "display_data",
          "data": {
            "text/plain": [
              "<Figure size 1000x200 with 4 Axes>"
            ],
            "image/png": "[encoded data removed]"
          },
          "metadata": {}
        }
      ],
      "source": [
        "import math\n",
        "import torch\n",
        "import torch.nn as nn\n",
        "import torch.nn.functional as F\n",
        "from torch.utils.data import DataLoader\n",
        "from torchvision import datasets, transforms\n",
        "from tqdm import tqdm\n",
        "import matplotlib.pyplot as plt\n",
        "import random\n",
        "import numpy as np\n",
        "\n",
        "seed = 42\n",
        "random.seed(seed)\n",
        "np.random.seed(seed)\n",
        "torch.manual_seed(seed)\n",
        "torch.cuda.manual_seed_all(seed)\n",
        "\n",
        "device = torch.device(\"cuda\" if torch.cuda.is_available() else \"cpu\")\n",
        "print(\"Device:\", device)\n",
        "\n",
        "\n",
        "# Sinusoidal positional embedding\n",
        "\n",
        "class SinusoidalEmbeddings(nn.Module):\n",
        "\n",
        "    def __init__(self, dim: int):\n",
        "        super().__init__()\n",
        "        self.dim = dim\n",
        "\n",
        "    def forward(self, t: torch.Tensor) -> torch.Tensor:\n",
        "\n",
        "        half = self.dim // 2\n",
        "        freqs = torch.exp(\n",
        "            torch.arange(half, device=t.device) * -(math.log(10000.0) / (half - 1))\n",
        "        )\n",
        "        args = t[:, None].float() * freqs[None, :]\n",
        "        emb = torch.cat([torch.sin(args), torch.cos(args)], dim=-1)\n",
        "        return emb\n",
        "\n",
        "\n",
        "\n",
        "# Residual block w/ time & cond\n",
        "\n",
        "class ResBlock(nn.Module):\n",
        "\n",
        "    def __init__(self, in_ch, out_ch, cond_dim, dropout=0.1):\n",
        "        super().__init__()\n",
        "\n",
        "        def valid_groups(ch):\n",
        "\n",
        "            for g in reversed(range(1, 33)):\n",
        "                if ch % g == 0:\n",
        "                    return g\n",
        "            return 1\n",
        "\n",
        "        g1, g2 = valid_groups(in_ch), valid_groups(out_ch)\n",
        "\n",
        "        self.norm1 = nn.GroupNorm(g1, in_ch)\n",
        "        self.act1  = nn.SiLU()\n",
        "        self.conv1 = nn.Conv2d(in_ch, out_ch, 3, padding=1)\n",
        "\n",
        "        self.norm2 = nn.GroupNorm(g2, out_ch)\n",
        "        self.act2  = nn.SiLU()\n",
        "        self.drop  = nn.Dropout(dropout)\n",
        "        self.conv2 = nn.Conv2d(out_ch, out_ch, 3, padding=1)\n",
        "\n",
        "\n",
        "        self.emb_proj = nn.Linear(cond_dim, out_ch)\n",
        "\n",
        "\n",
        "        self.skip = nn.Conv2d(in_ch, out_ch, 1) if in_ch != out_ch else nn.Identity()\n",
        "\n",
        "    def forward(self, x, emb):\n",
        "        h = self.conv1(self.act1(self.norm1(x)))\n",
        "        h = h + self.emb_proj(emb)[:, :, None, None]\n",
        "        h = self.conv2(self.drop(self.act2(self.norm2(h))))\n",
        "        return h + self.skip(x)\n",
        "\n",
        "\n",
        "\n",
        "# Self-Attention 2D\n",
        "\n",
        "class SelfAttention(nn.Module):\n",
        "\n",
        "    def __init__(self, ch):\n",
        "        super().__init__()\n",
        "        self.norm = nn.GroupNorm(32 if ch % 32 == 0 else 1, ch)\n",
        "        self.q = nn.Conv2d(ch, ch, 1)\n",
        "        self.k = nn.Conv2d(ch, ch, 1)\n",
        "        self.v = nn.Conv2d(ch, ch, 1)\n",
        "        self.proj = nn.Conv2d(ch, ch, 1)\n",
        "\n",
        "    def forward(self, x):\n",
        "        B, C, H, W = x.shape\n",
        "        h = self.norm(x)\n",
        "        q = self.q(h).reshape(B, C, H * W).transpose(1, 2)\n",
        "        k = self.k(h).reshape(B, C, H * W)\n",
        "        v = self.v(h).reshape(B, C, H * W)\n",
        "        attn = torch.softmax((q @ k) / math.sqrt(C), dim=-1)\n",
        "        out = (v @ attn.transpose(1, 2)).reshape(B, C, H, W)\n",
        "        return x + self.proj(out)\n",
        "\n",
        "\n",
        "\n",
        "# U-Net with CFG capability\n",
        "\n",
        "class UNet(nn.Module):\n",
        "\n",
        "    def __init__(\n",
        "        self,\n",
        "        img_ch=1,\n",
        "        base_ch=64,\n",
        "        time_emb_dim=256,\n",
        "        num_classes=10,\n",
        "        p_uncond=0.2,\n",
        "    ):\n",
        "        super().__init__()\n",
        "        self.num_classes = num_classes\n",
        "        self.null_class  = num_classes\n",
        "        self.p_uncond    = p_uncond\n",
        "\n",
        "        # time embedding MLP\n",
        "        self.time_mlp = nn.Sequential(\n",
        "            SinusoidalEmbeddings(time_emb_dim // 4),\n",
        "            nn.Linear(time_emb_dim // 4, time_emb_dim),\n",
        "            nn.SiLU(),\n",
        "            nn.Linear(time_emb_dim, time_emb_dim),\n",
        "        )\n",
        "\n",
        "        # label embedding (+1 for null token)\n",
        "        self.label_embed = nn.Embedding(num_classes + 1, time_emb_dim)\n",
        "\n",
        "        cond_dim = time_emb_dim\n",
        "\n",
        "        # encoder\n",
        "        self.inc   = ResBlock(img_ch,       base_ch,     cond_dim)\n",
        "        self.down1 = ResBlock(base_ch,      base_ch * 2, cond_dim)\n",
        "        self.down2 = ResBlock(base_ch * 2,  base_ch * 4, cond_dim)\n",
        "\n",
        "        self.downsample = nn.AvgPool2d(2)\n",
        "\n",
        "        # bottleneck attention at 16x16 (for 32x32 inputs)\n",
        "        self.attn = SelfAttention(base_ch * 4)\n",
        "\n",
        "        # decoder\n",
        "        self.up1 = ResBlock(base_ch * 4, base_ch * 2, cond_dim)\n",
        "        self.up2 = ResBlock(base_ch * 2, base_ch,     cond_dim)\n",
        "        self.upsample = nn.Upsample(scale_factor=2, mode=\"nearest\")\n",
        "\n",
        "        self.outc = nn.Conv2d(base_ch, img_ch, 1)\n",
        "\n",
        "    def forward(self, x, t, y):\n",
        "\n",
        "        # build combined embedding = time_emb + label_emb\n",
        "        t_emb = self.time_mlp(t)\n",
        "        y_emb = self.label_embed(y)\n",
        "        emb   = t_emb + y_emb\n",
        "\n",
        "        # U-Net forward with skip connections\n",
        "        x1 = self.inc(x, emb)\n",
        "        x2 = self.down1(self.downsample(x1), emb)\n",
        "        x3 = self.down2(self.downsample(x2), emb)\n",
        "\n",
        "        h  = self.attn(x3)\n",
        "        h  = self.upsample(self.up1(h, emb))\n",
        "\n",
        "        # skip connection from encoder (same spatial size)\n",
        "        h  = self.upsample(self.up2(h + x2, emb))\n",
        "\n",
        "        out = self.outc(h + x1)                 # predict ε\n",
        "        return out\n",
        "\n",
        "\n",
        "\n",
        "# DDPM Scheduler\n",
        "\n",
        "class DDPM_Scheduler:\n",
        "\n",
        "    def __init__(self, timesteps=1000):\n",
        "        self.T = timesteps\n",
        "        self.beta = torch.linspace(1e-4, 0.02, timesteps)\n",
        "        self.alpha = 1.0 - self.beta\n",
        "        self.alpha_bar = torch.cumprod(self.alpha, dim=0)\n",
        "\n",
        "\n",
        "\n",
        "# Forward diffusion q(x_t | x_0) sampling\n",
        "\n",
        "def forward_diffusion(x0, t, scheduler: DDPM_Scheduler):\n",
        "    # ensure scheduler on correct device\n",
        "    alpha_bar = scheduler.alpha_bar.to(x0.device)  # (T,)\n",
        "    a_bar = alpha_bar[t][:, None, None, None]      # (B,1,1,1)\n",
        "    noise = torch.randn_like(x0)\n",
        "    x_t = torch.sqrt(a_bar) * x0 + torch.sqrt(1.0 - a_bar) * noise\n",
        "    return x_t, noise\n",
        "\n",
        "\n",
        "\n",
        "# CFG sampling: combine conditional & unconditional epŝ\n",
        "\n",
        "@torch.no_grad()\n",
        "def sample_cfg(model: UNet,\n",
        "               scheduler: DDPM_Scheduler,\n",
        "               labels: torch.Tensor,\n",
        "               img_size=32,\n",
        "               guidance_scale=2.0):\n",
        "\n",
        "    model.eval()\n",
        "    B = labels.size(0)\n",
        "    labels = labels.to(device)\n",
        "\n",
        "    # unconditional labels use the null token\n",
        "    y_uncond = torch.full_like(labels, fill_value=model.null_class, device=device)\n",
        "\n",
        "    # pre-move scheduler buffers\n",
        "    beta      = scheduler.beta.to(device)\n",
        "    alpha     = scheduler.alpha.to(device)\n",
        "    alpha_bar = scheduler.alpha_bar.to(device)\n",
        "\n",
        "    # start from Gaussian noise\n",
        "    x = torch.randn(B, 1, img_size, img_size, device=device)\n",
        "\n",
        "    for t in reversed(range(scheduler.T)):\n",
        "        t_batch = torch.full((B,), t, device=device, dtype=torch.long)\n",
        "\n",
        "        # predict eps with condition (labels) and without (null)\n",
        "        eps_cond   = model(x, t_batch, labels)\n",
        "        eps_uncond = model(x, t_batch, y_uncond)\n",
        "\n",
        "        # classifier-free guidance mixing\n",
        "        w  = guidance_scale\n",
        "        eps = (1 + w) * eps_cond - w * eps_uncond\n",
        "\n",
        "        # DDPM ancestral update\n",
        "        beta_t      = beta[t]\n",
        "        alpha_t     = alpha[t]\n",
        "        alpha_bar_t = alpha_bar[t]\n",
        "\n",
        "        if t > 0:\n",
        "            z = torch.randn_like(x)\n",
        "        else:\n",
        "            z = 0.0\n",
        "\n",
        "        x = (1.0 / torch.sqrt(alpha_t)) * (\n",
        "                x - ((1 - alpha_t) / torch.sqrt(1 - alpha_bar_t)) * eps\n",
        "            ) + torch.sqrt(beta_t) * z\n",
        "\n",
        "    return x.clamp(0, 1)\n",
        "\n",
        "\n",
        "\n",
        "# Training routine\n",
        "\n",
        "def train_ddpm_cfg(\n",
        "    epochs=20,\n",
        "    batch_size=128,\n",
        "    lr=2e-4,\n",
        "    T=1000,\n",
        "    p_uncond=0.2,   # probability to drop labels during training\n",
        "):\n",
        "\n",
        "    tfm = transforms.Compose([\n",
        "        transforms.ToTensor(),\n",
        "        transforms.Resize(32)\n",
        "    ])\n",
        "    ds = datasets.MNIST(root=\"./data\", train=True, download=True, transform=tfm)\n",
        "    dl = DataLoader(ds, batch_size=batch_size, shuffle=True, drop_last=True, num_workers=2, pin_memory=True)\n",
        "\n",
        "    model = UNet(img_ch=1, base_ch=64, time_emb_dim=256, num_classes=10, p_uncond=p_uncond).to(device)\n",
        "    sched = DDPM_Scheduler(timesteps=T)\n",
        "    opt   = torch.optim.Adam(model.parameters(), lr=lr)\n",
        "    lossf = nn.MSELoss()\n",
        "\n",
        "    for epoch in range(epochs):\n",
        "        model.train()\n",
        "        running = 0.0\n",
        "\n",
        "        for x, y in tqdm(dl, desc=f\"Epoch {epoch+1}/{epochs}\"):\n",
        "            x = x.to(device)\n",
        "            y = y.to(device).long()\n",
        "\n",
        "            # random unconditional dropout (classifier-free training)\n",
        "\n",
        "            drop_mask = (torch.rand_like(y.float()) < p_uncond)\n",
        "            y_train = torch.where(drop_mask, torch.full_like(y, model.null_class), y)\n",
        "\n",
        "            # sample timesteps\n",
        "            t = torch.randint(0, sched.T, (x.size(0),), device=device).long()\n",
        "\n",
        "            # forward diffusion\n",
        "            x_t, noise = forward_diffusion(x, t, sched)\n",
        "\n",
        "            # predict noise\n",
        "            eps_hat = model(x_t, t, y_train)\n",
        "\n",
        "            loss = lossf(eps_hat, noise)\n",
        "\n",
        "            opt.zero_grad(set_to_none=True)\n",
        "            loss.backward()\n",
        "            opt.step()\n",
        "\n",
        "            running += loss.item()\n",
        "\n",
        "        avg = running / len(dl)\n",
        "        print(f\"Epoch {epoch+1} | Loss: {avg:.4f}\")\n",
        "\n",
        "        # quick visual every few epochs\n",
        "        if (epoch + 1) % 5 == 0:\n",
        "            model.eval()\n",
        "            # sample a small batch with fixed labels\n",
        "            labels = torch.tensor([0, 1, 2, 3], device=device)\n",
        "            imgs = sample_cfg(model, sched, labels=labels, img_size=32, guidance_scale=2.0)\n",
        "            plt.figure(figsize=(8, 2))\n",
        "            for i in range(imgs.size(0)):\n",
        "                plt.subplot(1, 4, i + 1)\n",
        "                plt.imshow(imgs[i].detach().cpu().squeeze(), cmap=\"gray\")\n",
        "                plt.title(f\"y={int(labels[i].item())}\")\n",
        "                plt.axis(\"off\")\n",
        "            plt.suptitle(f\"Samples (w=2.0) at Epoch {epoch+1}\")\n",
        "            plt.show()\n",
        "\n",
        "    torch.save(model.state_dict(), \"ddpm_mnist_cfg.pt\")\n",
        "    print(\"Training complete. Saved: ddpm_mnist_cfg.pt\")\n",
        "    return model, sched\n",
        "\n",
        "\n",
        "\n",
        "# Train\n",
        "\n",
        "model, sched = train_ddpm_cfg(\n",
        "    epochs=30,\n",
        "    batch_size=128,\n",
        "    lr=2e-4,\n",
        "    T=1000,\n",
        "    p_uncond=0.2\n",
        ")\n",
        "\n",
        "\n",
        "# Final sampling demo with different w's\n",
        "\n",
        "@torch.no_grad()\n",
        "def show_guidance_sweep(model, sched, label=7, ws=(0.0, 1.5, 3.0, 5.0)):\n",
        "    labels = torch.tensor([label]*len(ws), device=device)\n",
        "    plt.figure(figsize=(10, 2))\n",
        "    for i, w in enumerate(ws):\n",
        "        img = sample_cfg(model, sched, labels=labels[i:i+1], img_size=32, guidance_scale=w)[0]\n",
        "        plt.subplot(1, len(ws), i+1)\n",
        "        plt.imshow(img.detach().cpu().squeeze(), cmap='gray')\n",
        "        plt.title(f\"w={w}\")\n",
        "        plt.axis('off')\n",
        "    plt.suptitle(f\"Classifier-Free Guidance sweep (label={label})\")\n",
        "    plt.show()\n",
        "\n",
        "show_guidance_sweep(model, sched, label=7, ws=(0.0, 1.5, 3.0, 5.0))\n"
      ]
    },
    {
      "cell_type": "markdown",
      "source": [
        "Document your findings of the differences made in the code :"
      ],
      "metadata": {
        "id": "rVm6cQ4KYwo7"
      }
    },
    {
      "cell_type": "markdown",
      "source": [
        "In the new code, classifier-free guidance (CFG) was added to the DDPM. This required changes to make the model handle both conditional and unconditional generation. The main difference is that the new model can now use class labels (digits 0–9) while also being able to generate samples without any label.\n",
        "\n",
        "During training, a small portion of images have their labels dropped randomly (set to a “null” token). This helps the model learn how to denoise both with and without label information, using the same weights.\n",
        "\n",
        "During sampling, the model now predicts noise twice at every timestep — once with the label (conditional) and once without the label (unconditional). These two predictions are then combined using a guidance scale (w) to control how strongly the label influences the final image.\n",
        "\n",
        "Because of this change, sampling now takes slightly longer (two forward passes per step), but the quality of generated digits improves — the digits look clearer and match the requested class more accurately."
      ],
      "metadata": {
        "id": "jA-0PcCHY8qU"
      }
    }
  ]
}